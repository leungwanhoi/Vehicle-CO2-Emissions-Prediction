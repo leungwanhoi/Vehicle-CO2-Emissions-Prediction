{
  "nbformat": 4,
  "nbformat_minor": 0,
  "metadata": {
    "colab": {
      "provenance": [],
      "collapsed_sections": [
        "R594-XxbX1z_",
        "vQYds-URZ-cT"
      ]
    },
    "kernelspec": {
      "name": "python3",
      "display_name": "Python 3"
    },
    "language_info": {
      "name": "python"
    }
  },
  "cells": [
    {
      "cell_type": "markdown",
      "source": [
        "# CO2 Emission EDA & Data Processing & Machine Learning\n",
        "## Group 1 Project 1"
      ],
      "metadata": {
        "id": "v-DIkk7G2nCZ"
      }
    },
    {
      "cell_type": "markdown",
      "source": [
        "# Importing Libraries and Dataset"
      ],
      "metadata": {
        "id": "R594-XxbX1z_"
      }
    },
    {
      "cell_type": "code",
      "execution_count": 1,
      "metadata": {
        "id": "BExKGPik5sAH",
        "colab": {
          "base_uri": "https://localhost:8080/",
          "height": 140
        },
        "outputId": "b7a6928e-d9fb-4952-eac9-a54b7df1462f"
      },
      "outputs": [
        {
          "output_type": "error",
          "ename": "SyntaxError",
          "evalue": "ignored",
          "traceback": [
            "\u001b[0;36m  File \u001b[0;32m\"<ipython-input-1-7dfc0ba1c425>\"\u001b[0;36m, line \u001b[0;32m25\u001b[0m\n\u001b[0;31m    pip install prettytable\u001b[0m\n\u001b[0m        ^\u001b[0m\n\u001b[0;31mSyntaxError\u001b[0m\u001b[0;31m:\u001b[0m invalid syntax\n"
          ]
        }
      ],
      "source": [
        "# Importing libraries\n",
        "import numpy as np\n",
        "import pandas as pd\n",
        "\n",
        "import seaborn as sns\n",
        "import matplotlib.pyplot as plt\n",
        "\n",
        "import plotly.express as px\n",
        "import plotly.graph_objects as go\n",
        "\n",
        "from plotly.subplots import make_subplots\n",
        "\n",
        "import warnings\n",
        "warnings.filterwarnings(\"ignore\")\n",
        "\n",
        "from sklearn.metrics import mean_squared_error, r2_score\n",
        "import sklearn.metrics as skm\n",
        "from sklearn.ensemble import RandomForestRegressor, BaggingRegressor\n",
        "from sklearn.model_selection import GridSearchCV, RandomizedSearchCV, train_test_split, cross_val_score, cross_val_predict\n",
        "from sklearn.neighbors import LocalOutlierFactor, KNeighborsRegressor\n",
        "from sklearn import preprocessing\n",
        "\n",
        "import xgboost as xgb\n",
        "import graphviz\n",
        "pip install prettytable\n",
        "from prettytable import PrettyTable\n",
        "\n",
        "pd.set_option('display.max_columns', None)\n",
        "pd.set_option('display.max_rows', None)\n",
        "pd.set_option('display.width', 320)\n"
      ]
    },
    {
      "cell_type": "code",
      "source": [
        "#  Importing dataset\n",
        "df = pd.read_csv('CO2 Emissions_Canada.csv')"
      ],
      "metadata": {
        "id": "A3gk74CckLtc"
      },
      "execution_count": null,
      "outputs": []
    },
    {
      "cell_type": "markdown",
      "source": [
        "# Exploratory Data Analysis"
      ],
      "metadata": {
        "id": "g8kEOZlYYf7O"
      }
    },
    {
      "cell_type": "code",
      "source": [
        "print(df.shape)\n",
        "print(df.columns)\n",
        "print(df.head())\n",
        "print(df.info())\n",
        "print(df.isnull().values.any())"
      ],
      "metadata": {
        "id": "GBYEmbaoY7Ez",
        "colab": {
          "base_uri": "https://localhost:8080/",
          "height": 242
        },
        "outputId": "50c12da9-6f88-402f-f271-468478cd9373"
      },
      "execution_count": null,
      "outputs": [
        {
          "output_type": "error",
          "ename": "NameError",
          "evalue": "ignored",
          "traceback": [
            "\u001b[0;31m---------------------------------------------------------------------------\u001b[0m",
            "\u001b[0;31mNameError\u001b[0m                                 Traceback (most recent call last)",
            "\u001b[0;32m<ipython-input-2-1c166ce2e805>\u001b[0m in \u001b[0;36m<module>\u001b[0;34m\u001b[0m\n\u001b[0;32m----> 1\u001b[0;31m \u001b[0mprint\u001b[0m\u001b[0;34m(\u001b[0m\u001b[0mdf\u001b[0m\u001b[0;34m.\u001b[0m\u001b[0mshape\u001b[0m\u001b[0;34m)\u001b[0m\u001b[0;34m\u001b[0m\u001b[0;34m\u001b[0m\u001b[0m\n\u001b[0m\u001b[1;32m      2\u001b[0m \u001b[0mprint\u001b[0m\u001b[0;34m(\u001b[0m\u001b[0mdf\u001b[0m\u001b[0;34m.\u001b[0m\u001b[0mcolumns\u001b[0m\u001b[0;34m)\u001b[0m\u001b[0;34m\u001b[0m\u001b[0;34m\u001b[0m\u001b[0m\n\u001b[1;32m      3\u001b[0m \u001b[0mprint\u001b[0m\u001b[0;34m(\u001b[0m\u001b[0mdf\u001b[0m\u001b[0;34m.\u001b[0m\u001b[0mhead\u001b[0m\u001b[0;34m(\u001b[0m\u001b[0;34m)\u001b[0m\u001b[0;34m)\u001b[0m\u001b[0;34m\u001b[0m\u001b[0;34m\u001b[0m\u001b[0m\n\u001b[1;32m      4\u001b[0m \u001b[0mprint\u001b[0m\u001b[0;34m(\u001b[0m\u001b[0mdf\u001b[0m\u001b[0;34m.\u001b[0m\u001b[0minfo\u001b[0m\u001b[0;34m(\u001b[0m\u001b[0;34m)\u001b[0m\u001b[0;34m)\u001b[0m\u001b[0;34m\u001b[0m\u001b[0;34m\u001b[0m\u001b[0m\n\u001b[1;32m      5\u001b[0m \u001b[0mprint\u001b[0m\u001b[0;34m(\u001b[0m\u001b[0mdf\u001b[0m\u001b[0;34m.\u001b[0m\u001b[0misnull\u001b[0m\u001b[0;34m(\u001b[0m\u001b[0;34m)\u001b[0m\u001b[0;34m.\u001b[0m\u001b[0mvalues\u001b[0m\u001b[0;34m.\u001b[0m\u001b[0many\u001b[0m\u001b[0;34m(\u001b[0m\u001b[0;34m)\u001b[0m\u001b[0;34m)\u001b[0m\u001b[0;34m\u001b[0m\u001b[0;34m\u001b[0m\u001b[0m\n",
            "\u001b[0;31mNameError\u001b[0m: name 'df' is not defined"
          ]
        }
      ]
    },
    {
      "cell_type": "code",
      "source": [
        "# Show missing data\n",
        "def missing_data(data):\n",
        "    total = data.isnull().sum().sort_values(ascending = False)\n",
        "    percent = (data.isnull().sum()/data.isnull().count()*100).sort_values(ascending = False)\n",
        "    return pd.concat([total, percent], axis=1, keys=['Total', 'Percent'])\n",
        "missing_data(df)"
      ],
      "metadata": {
        "id": "DrKxRa8S1xKo"
      },
      "execution_count": null,
      "outputs": []
    },
    {
      "cell_type": "markdown",
      "source": [
        "## Data Visualization"
      ],
      "metadata": {
        "id": "jL667j3ZbE5v"
      }
    },
    {
      "cell_type": "code",
      "source": [
        "# Vehicle unique make\n",
        "df[\"Make\"].unique()"
      ],
      "metadata": {
        "id": "VwvLU_vUy4yg"
      },
      "execution_count": null,
      "outputs": []
    },
    {
      "cell_type": "code",
      "source": [
        "# Top 25 companies\n",
        "df_Make=df['Make'].value_counts().reset_index().rename(columns={'index':'Make','Make':'Count'})[0:25]\n",
        "df_Make\n",
        "fig = go.Figure(go.Bar(\n",
        "    x=df_Make['Make'],y=df_Make['Count'],\n",
        "    marker={'color': df_Make['Count'],\n",
        "    'colorscale': 'Viridis'},\n",
        "    text=df_Make['Count'],\n",
        "    textposition = \"outside\",\n",
        "))\n",
        "fig.update_layout(title_text='Top 25 Companies',xaxis_title=\"Company \",yaxis_title=\"Number Of Vehicles \",title_x=0.5)\n",
        "fig.show()"
      ],
      "metadata": {
        "id": "1Y3YIs_Vy7BO"
      },
      "execution_count": null,
      "outputs": []
    },
    {
      "cell_type": "code",
      "source": [
        "# Top 10 Ford Models\n",
        "df_ford=df[df[\"Make\"]==\"FORD\"]\n",
        "df_ford_model=df_ford[\"Model\"].value_counts().reset_index().rename(columns={'index':'Model','Model':'Count'})[0:10]\n",
        "fig = go.Figure(go.Bar(\n",
        "    x=df_ford_model['Model'],y=df_ford_model['Count'],\n",
        "    marker={'color': df_ford_model['Count'],\n",
        "    'colorscale': 'Viridis'},\n",
        "    text=df_ford_model['Count'],\n",
        "    textposition = \"outside\",\n",
        "))\n",
        "fig.update_layout(title_text='Top 10 Ford Models',xaxis_title=\"Model \",yaxis_title=\"Number Of Vehicles \",title_x=0.5)\n",
        "fig.show()"
      ],
      "metadata": {
        "id": "V9jTFipOy9iN"
      },
      "execution_count": null,
      "outputs": []
    },
    {
      "cell_type": "code",
      "source": [
        "# Top 20 Models\n",
        "df_Model=df['Model'].value_counts().reset_index().rename(columns={'index':'Model','Model':'Count'})[0:20]\n",
        "\n",
        "fig = go.Figure(go.Bar(\n",
        "    x=df_Model['Model'],y=df_Model['Count'],\n",
        "    marker={'color': df_Model['Count'],\n",
        "    'colorscale': 'Viridis'},\n",
        "    text=df_Model['Count'],\n",
        "    textposition = \"outside\",\n",
        "))\n",
        "fig.update_layout(title_text='Top 20 Models',xaxis_title=\"Model \",yaxis_title=\"Number Of Vehicles \",title_x=0.5)\n",
        "fig.show()"
      ],
      "metadata": {
        "id": "oylfc0YpzG8D"
      },
      "execution_count": null,
      "outputs": []
    },
    {
      "cell_type": "code",
      "source": [
        "# Vehicle Class\n",
        "df_Vehicle_Class=df['Vehicle Class'].value_counts().reset_index().rename(columns={'index':'Vehicle_Class','Vehicle Class':'Count'})\n",
        "fig = go.Figure(go.Bar(\n",
        "    x=df_Vehicle_Class['Vehicle_Class'],y=df_Vehicle_Class['Count'],\n",
        "    marker={'color': df_Vehicle_Class['Count'],\n",
        "    'colorscale': 'Viridis'},\n",
        "    text=df_Vehicle_Class['Count'],\n",
        "    textposition = \"outside\",\n",
        "))\n",
        "fig.update_layout(title_text=' Vehicle Class',xaxis_title=\"Vehicle Class\",yaxis_title=\"Number Of Vehicles \",title_x=0.5)\n",
        "fig.show()"
      ],
      "metadata": {
        "id": "7tT35BQ5zJeb"
      },
      "execution_count": null,
      "outputs": []
    },
    {
      "cell_type": "code",
      "source": [
        "# Engine Size Histogram\n",
        "fig = px.histogram(df, x=\"Engine Size(L)\", marginal=\"box\", hover_data=df.columns)\n",
        "fig.show()"
      ],
      "metadata": {
        "id": "T2nkirmS5q3o"
      },
      "execution_count": null,
      "outputs": []
    },
    {
      "cell_type": "code",
      "source": [
        "# Engine Size Scatter Plot\n",
        "fig = px.scatter(df, x=\"Engine Size(L)\", y=\"CO2 Emissions(g/km)\")\n",
        "fig.update_layout(title_text='CO2 Emissions(g/km) vs Engine Size ',xaxis_title=\" Engine Size (L)\",yaxis_title=\"CO2 Emissions(g/km)\",title_x=0.5)\n",
        "fig.show()"
      ],
      "metadata": {
        "id": "DSXSuUWI55j3"
      },
      "execution_count": null,
      "outputs": []
    },
    {
      "cell_type": "code",
      "source": [
        "# Cylinders\n",
        "fig = px.histogram(df, x=\"Cylinders\")\n",
        "fig.update_layout(title_text='Distribution Of Cylinders  ',xaxis_title=\" Cylinders \",yaxis_title=\"Number Of Vehicles \",title_x=0.5)\n",
        "fig.show()"
      ],
      "metadata": {
        "id": "7UBU3MmZ1uPY"
      },
      "execution_count": null,
      "outputs": []
    },
    {
      "cell_type": "code",
      "source": [
        "# Extract Gears from Transmission\n",
        "df[\"Gears\"]= df['Transmission'].str[-1]\n",
        "\n",
        "df['Transmission']=df['Transmission'].str[0:-1]\n",
        "df.head()"
      ],
      "metadata": {
        "id": "ebJPADAg16VR"
      },
      "execution_count": null,
      "outputs": []
    },
    {
      "cell_type": "code",
      "source": [
        "# Transmission Pie Chart\n",
        "df_Transmission=df['Transmission'].value_counts().reset_index().rename(columns={'index':'Transmission','Transmission':'Count'})\n",
        "df_Transmission\n",
        "fig = px.pie(df_Transmission, values='Count', names='Transmission')\n",
        "\n",
        "fig.update_traces(hoverinfo='label+percent', textinfo='value+percent', textfont_size=12,insidetextorientation='radial')\n",
        "fig.update_layout(title=\"Transmission Distribution\",title_x=0.5)\n",
        "fig.show()"
      ],
      "metadata": {
        "id": "DpElzLDv19jN"
      },
      "execution_count": null,
      "outputs": []
    },
    {
      "cell_type": "code",
      "source": [
        "# Transmission Bar Chart\n",
        "df_Transmission=df['Transmission'].value_counts().reset_index().rename(columns={'index':'Transmission','Transmission':'Count'})\n",
        "\n",
        "fig = go.Figure(go.Bar(\n",
        "    x=df_Transmission['Transmission'],y=df_Transmission['Count'],\n",
        "    marker={'color': df_Transmission['Count'],\n",
        "    'colorscale': 'Viridis'},\n",
        "    text=df_Transmission['Count'],\n",
        "    textposition = \"outside\",\n",
        "))\n",
        "fig.update_layout(title_text='Transmission Distribution ',xaxis_title=\"Transmission \",yaxis_title=\"Number Of Vehicles \",title_x=0.5)\n",
        "fig.show()"
      ],
      "metadata": {
        "id": "-8QfyjrR2E9n"
      },
      "execution_count": null,
      "outputs": []
    },
    {
      "cell_type": "code",
      "source": [
        "# Gears\n",
        "df_Gears=df['Gears'].value_counts().reset_index().rename(columns={'index':'Gears','Gears':'Count'})\n",
        "df_Gears\n",
        "fig = px.pie(df_Gears, values='Count', names='Gears')\n",
        "\n",
        "fig.update_traces(hoverinfo='label+percent', textinfo='value+percent', textfont_size=12,insidetextorientation='radial')\n",
        "fig.update_layout(title=\"Gears Distribution\",title_x=0.5)\n",
        "fig.show()"
      ],
      "metadata": {
        "id": "70puZ1fV2MwU"
      },
      "execution_count": null,
      "outputs": []
    },
    {
      "cell_type": "code",
      "source": [
        "# Fuel Type\n",
        "df_Fuel_Type=df['Fuel Type'].value_counts().reset_index().rename(columns={'index':'Fuel_Type','Fuel Type':'Count'})\n",
        "\n",
        "fig = go.Figure(go.Bar(\n",
        "    x=df_Fuel_Type['Fuel_Type'],y=df_Fuel_Type['Count'],\n",
        "    marker={'color': df_Fuel_Type['Count'],\n",
        "    'colorscale': 'Viridis'},\n",
        "    text=df_Fuel_Type['Count'],\n",
        "    textposition = \"outside\",\n",
        "))\n",
        "fig.update_layout(title_text='Fuel Type Distribution ',xaxis_title=\"Fuel Type  \",yaxis_title=\"Number Of Vehicles \",title_x=0.5)\n",
        "fig.show()"
      ],
      "metadata": {
        "id": "5Od6VQbw7kHp"
      },
      "execution_count": null,
      "outputs": []
    },
    {
      "cell_type": "code",
      "source": [
        "# Normalized Fuel Consumption City\n",
        "fig = go.Figure(data=[go.Histogram(x=df[\"Fuel Consumption City (L/100 km)\"], histnorm='probability')])\n",
        "fig.update_layout(title_text='Normalized Fuel Consumption City  ',xaxis_title=\"Fuel Consumption\",yaxis_title=\"Ratio\",title_x=0.5)\n",
        "fig.show()"
      ],
      "metadata": {
        "id": "xSp3i2Jo2lRa"
      },
      "execution_count": null,
      "outputs": []
    },
    {
      "cell_type": "code",
      "source": [
        "# Fuel Consumption City Box Plot\n",
        "fig = go.Figure()\n",
        "fig.add_trace(go.Box(\n",
        "    y=df[\"Fuel Consumption City (L/100 km)\"],\n",
        "    name='Fuel Consumption City',\n",
        "    marker_color='royalblue',\n",
        "    boxmean='sd' # represent mean and standard deviation\n",
        "))\n",
        "fig.update_layout(title_text='Fuel Consumption City',yaxis_title=\" L / 100 km \",title_x=0.5)\n",
        "fig.show()"
      ],
      "metadata": {
        "id": "ELjAKLAh3EwW"
      },
      "execution_count": null,
      "outputs": []
    },
    {
      "cell_type": "code",
      "source": [
        "# Fuel Consumption City Violin Plot\n",
        "fig = go.Figure(data=go.Violin(y=df[\"Fuel Consumption City (L/100 km)\"],\n",
        "                               box_visible=True,\n",
        "                               line_color='black',\n",
        "                               meanline_visible=True,\n",
        "                               fillcolor='lightseagreen', opacity=0.6,\n",
        "                               x0='Fuel Consumption City'))\n",
        "\n",
        "fig.update_layout(yaxis_zeroline=False)\n",
        "fig.show()"
      ],
      "metadata": {
        "id": "AHi1Swew3JLS"
      },
      "execution_count": null,
      "outputs": []
    },
    {
      "cell_type": "code",
      "source": [
        "# Normalized Fuel Consumption Highways\n",
        "fig = go.Figure(data=[go.Histogram(x=df[\"Fuel Consumption Hwy (L/100 km)\"], histnorm='probability')])\n",
        "fig.update_layout(title_text='Normalized Fuel Consumption Highways  ',xaxis_title=\"Fuel Consumption\",yaxis_title=\"Ratio\",title_x=0.5)\n",
        "fig.show()"
      ],
      "metadata": {
        "id": "KgY8z5Ki3Qai"
      },
      "execution_count": null,
      "outputs": []
    },
    {
      "cell_type": "code",
      "source": [
        "# Fuel Consumption Highways Box Plot\n",
        "fig = go.Figure()\n",
        "fig.add_trace(go.Box(\n",
        "    y=df[\"Fuel Consumption Hwy (L/100 km)\"],\n",
        "    name='Fuel Consumption Hwy',\n",
        "    marker_color='royalblue',\n",
        "    boxmean='sd' # represent mean and standard deviation\n",
        "))\n",
        "fig.update_layout(title_text='Fuel Consumption Highways ',yaxis_title=\" L / 100 km \",title_x=0.5)\n",
        "fig.show()"
      ],
      "metadata": {
        "id": "n_avyyDo3VFK"
      },
      "execution_count": null,
      "outputs": []
    },
    {
      "cell_type": "code",
      "source": [
        "# Fuel Consumption Highways Violin Plot\n",
        "fig = go.Figure(data=go.Violin(y=df[\"Fuel Consumption Hwy (L/100 km)\"],\n",
        "                               box_visible=True,\n",
        "                               line_color='black',\n",
        "                               meanline_visible=True,\n",
        "                               fillcolor='lightseagreen', opacity=0.6,\n",
        "                               x0='Fuel Consumption Highways '))\n",
        "\n",
        "fig.update_layout(yaxis_zeroline=False)\n",
        "fig.show()"
      ],
      "metadata": {
        "id": "imbsVAKq3ak4"
      },
      "execution_count": null,
      "outputs": []
    },
    {
      "cell_type": "code",
      "source": [
        "# Normalized Fuel Consumption Combined\n",
        "fig = go.Figure(data=[go.Histogram(x=df[\"Fuel Consumption Comb (L/100 km)\"], histnorm='probability')])\n",
        "fig.update_layout(title_text='Normalized Fuel Consumption Combined  ',xaxis_title=\"Fuel Consumption\",yaxis_title=\"Ratio\",title_x=0.5)\n",
        "fig.show()"
      ],
      "metadata": {
        "id": "U0WH26I53iQg"
      },
      "execution_count": null,
      "outputs": []
    },
    {
      "cell_type": "code",
      "source": [
        "# Fuel Consumption Combined Box Plot\n",
        "fig = go.Figure()\n",
        "fig.add_trace(go.Box(\n",
        "    y=df[\"Fuel Consumption Comb (L/100 km)\"],\n",
        "    name='Fuel Consumption Comb ',\n",
        "    marker_color='royalblue',\n",
        "    boxmean='sd' # represent mean and standard deviation\n",
        "))\n",
        "fig.update_layout(title_text='The Combined Fuel Consumption',yaxis_title=\" L / 100 km \",title_x=0.5)\n",
        "fig.show()"
      ],
      "metadata": {
        "id": "yLz1Qlhl3lDb"
      },
      "execution_count": null,
      "outputs": []
    },
    {
      "cell_type": "code",
      "source": [
        "# Fuel Consumption Combined Violin Plot\n",
        "fig = go.Figure(data=go.Violin(y=df[\"Fuel Consumption Comb (L/100 km)\"],\n",
        "                               box_visible=True,\n",
        "                               line_color='black',\n",
        "                               meanline_visible=True,\n",
        "                               fillcolor='lightseagreen', opacity=0.6,\n",
        "                               x0='Fuel Combined Fuel Consumption'))\n",
        "\n",
        "fig.update_layout(yaxis_zeroline=False)\n",
        "fig.show()"
      ],
      "metadata": {
        "id": "7HGqbm4q3q7i"
      },
      "execution_count": null,
      "outputs": []
    },
    {
      "cell_type": "code",
      "source": [
        "# Normalized Fuel Consumption Combined mpg\n",
        "fig = go.Figure(data=[go.Histogram(x=df[\"Fuel Consumption Comb (mpg)\"], histnorm='probability')])\n",
        "fig.update_layout(title_text='Normalized Fuel Consumption Combined  Mile Per Gallon ',xaxis_title=\"Fuel Consumption\",yaxis_title=\"Ratio\",title_x=0.5)\n",
        "fig.show()"
      ],
      "metadata": {
        "id": "53YSAzEM3wwv"
      },
      "execution_count": null,
      "outputs": []
    },
    {
      "cell_type": "code",
      "source": [
        "# Fuel Consumption Combined mpg Box Plot\n",
        "fig = go.Figure()\n",
        "fig.add_trace(go.Box(\n",
        "    y=df[\"Fuel Consumption Comb (mpg)\"],\n",
        "    name='Fuel Consumption Comb ',\n",
        "    marker_color='royalblue',\n",
        "    boxmean='sd' # represent mean and standard deviation\n",
        "))\n",
        "fig.update_layout(title_text='The Combined Fuel Mile Per Gallon',yaxis_title=\"Mpg\",title_x=0.5)\n",
        "fig.show()"
      ],
      "metadata": {
        "id": "MffJrmgy31a4"
      },
      "execution_count": null,
      "outputs": []
    },
    {
      "cell_type": "code",
      "source": [
        "# Fuel Consumption Combined mpg Violin Plot\n",
        "fig = go.Figure(data=go.Violin(y=df[\"Fuel Consumption Comb (mpg)\"],\n",
        "                               box_visible=True,\n",
        "                               line_color='black',\n",
        "                               meanline_visible=True,\n",
        "                               fillcolor='lightseagreen', opacity=0.6,\n",
        "                               x0='Fuel Combined Fuel mile per gallon'))\n",
        "\n",
        "fig.update_layout(yaxis_zeroline=False,yaxis_title=\"Mpg\",title_x=0.5)\n",
        "fig.show()"
      ],
      "metadata": {
        "id": "f2p0Trdx37X9"
      },
      "execution_count": null,
      "outputs": []
    },
    {
      "cell_type": "code",
      "source": [
        "# Normalized CO2 Emissions Histogram\n",
        "fig = go.Figure(data=[go.Histogram(x=df[\"CO2 Emissions(g/km)\"], histnorm='probability')])\n",
        "fig.update_layout(title_text='Normalized Carbon Dioxide Emissions ',xaxis_title=\"CO2 Emissions\",yaxis_title=\"Ratio\",title_x=0.5)\n",
        "fig.show()"
      ],
      "metadata": {
        "id": "sm_bmysg4Ar1"
      },
      "execution_count": null,
      "outputs": []
    },
    {
      "cell_type": "code",
      "source": [
        "# CO2 Emissions Box Plot\n",
        "fig = go.Figure()\n",
        "fig.add_trace(go.Box(\n",
        "    y=df[\"CO2 Emissions(g/km)\"],\n",
        "    name='CO2 Emissions ',\n",
        "    marker_color='royalblue',\n",
        "    boxmean='sd' # represent mean and standard deviation\n",
        "))\n",
        "fig.update_layout(title_text='CO2 Emissions',yaxis_title=\"Quantity\",title_x=0.5)\n",
        "fig.show()"
      ],
      "metadata": {
        "id": "YA2HkWFR4OaN"
      },
      "execution_count": null,
      "outputs": []
    },
    {
      "cell_type": "code",
      "source": [
        "# CO2 Emissions Violin Plot\n",
        "fig = go.Figure(data=go.Violin(y=df[\"CO2 Emissions(g/km)\"],\n",
        "                               box_visible=True,\n",
        "                               line_color='black',\n",
        "                               meanline_visible=True,\n",
        "                               fillcolor='lightseagreen', opacity=0.6,\n",
        "                               x0='CO2 Emissions'))\n",
        "\n",
        "fig.update_layout(yaxis_zeroline=False,yaxis_title=\"Quantity\",title_x=0.5)\n",
        "fig.show()"
      ],
      "metadata": {
        "id": "T3pNFO5y4b7Z"
      },
      "execution_count": null,
      "outputs": []
    },
    {
      "cell_type": "code",
      "source": [
        "# Correlation Matrix\n",
        "print(\"Correlation Matrix\")\n",
        "plt.rcParams['figure.figsize']=(8,6)\n",
        "sns.heatmap(df.corr(),cmap='coolwarm',linewidths=.5,fmt=\".2f\",annot = True);"
      ],
      "metadata": {
        "id": "cwYhqDJ52jP4"
      },
      "execution_count": null,
      "outputs": []
    },
    {
      "cell_type": "markdown",
      "source": [
        "# Data Processing"
      ],
      "metadata": {
        "id": "vQYds-URZ-cT"
      }
    },
    {
      "cell_type": "code",
      "source": [
        "# Remove some features\n",
        "df.drop(['Make','Model','Vehicle Class','Fuel Consumption City (L/100 km)','Fuel Consumption Hwy (L/100 km)','Transmission','Fuel Consumption Comb (mpg)'],inplace=True,axis=1)\n",
        "df.head()\n",
        "df_N = df[df[\"Fuel Type\"]==\"N\"]\n",
        "indexs = df_N.index\n",
        "df_N\n",
        "for i in indexs:\n",
        "    df.drop(i, axis = 0,inplace = True)\n",
        "df[df[\"Fuel Type\"]==\"N\"]\n",
        "dums = pd.get_dummies(df['Fuel Type'],prefix=\"Fuel_Type\",drop_first=True)\n",
        "print(dums[0:15])\n",
        "frames = [df, dums]\n",
        "result = pd.concat(frames,axis=1)\n",
        "print(result)\n",
        "\n",
        "result.drop(['Fuel Type'],inplace=True,axis=1)\n",
        "print(result.head())\n",
        "\n",
        "X = result.drop(['CO2 Emissions(g/km)'], axis= 1)\n",
        "y = result[\"CO2 Emissions(g/km)\"]"
      ],
      "metadata": {
        "id": "WfdYRJii12yt"
      },
      "execution_count": null,
      "outputs": []
    },
    {
      "cell_type": "code",
      "source": [
        "# Finding Outliers\n",
        "clf = LocalOutlierFactor(n_neighbors = 20, contamination = 0.1)\n",
        "df_out = result.copy()\n",
        "clf.fit_predict(df_out)\n",
        "df_scores = clf.negative_outlier_factor_\n",
        "np.sort(df_scores)[0:25]\n",
        "threshold_value = np.sort(df_scores)[24]\n",
        "Outlier_df = df_out[df_scores < threshold_value]\n",
        "indexs = Outlier_df.index"
      ],
      "metadata": {
        "id": "xFTLDiHG1771"
      },
      "execution_count": null,
      "outputs": []
    },
    {
      "cell_type": "code",
      "source": [
        "# Remove Outliers\n",
        "for i in indexs:\n",
        "    result.drop(i, axis = 0,inplace = True)\n",
        "result.info()"
      ],
      "metadata": {
        "id": "h4wwSX3R2GDl"
      },
      "execution_count": null,
      "outputs": []
    },
    {
      "cell_type": "code",
      "source": [
        "# Normalization\n",
        "X = (X - np.min(X)) / (np.max(X) - np.min(X)).values\n",
        "X[\"Engine Size(L)\"] = X[\"Engine Size(L)\"].map(lambda x:round(x,2))\n",
        "X[\"Cylinders\"] = X[\"Cylinders\"].map(lambda x:round(x,2))\n",
        "X[\"Fuel Consumption Comb (L/100 km)\"] = X[\"Fuel Consumption Comb (L/100 km)\"].map(lambda x:round(x,2))"
      ],
      "metadata": {
        "id": "ugaD4mqL2MAQ"
      },
      "execution_count": null,
      "outputs": []
    },
    {
      "cell_type": "code",
      "source": [
        "# Splitting training data and testing data\n",
        "X_train, X_test, y_train, y_test = train_test_split(X, y, test_size=0.3, random_state=4011)\n",
        "\n",
        "print(\"X_train\", X_train.shape)\n",
        "print(\"y_train\",y_train.shape)\n",
        "print(\"X_test\",X_test.shape)\n",
        "print(\"y_test\",y_test.shape)"
      ],
      "metadata": {
        "id": "r8VLC-5-2PAA"
      },
      "execution_count": null,
      "outputs": []
    },
    {
      "cell_type": "markdown",
      "source": [
        "# Linear Regression"
      ],
      "metadata": {
        "id": "WCcSuwryTV_8"
      }
    },
    {
      "cell_type": "code",
      "source": [
        "# function to get cross validation scores\n",
        "def get_cv_scores(model):\n",
        "    scores = cross_val_score(model,\n",
        "                             X_train,\n",
        "                             y_train,\n",
        "                             cv=10,\n",
        "                             scoring='r2')\n",
        "\n",
        "    print('CV Mean: ', np.mean(scores))\n",
        "    print('STD: ', np.std(scores))\n",
        "    print('\\n')\n",
        "\n",
        "# Train model\n",
        "lr = LinearRegression().fit(X_train, y_train)\n",
        "y_pred = lr.predict(X_test)\n",
        "# get cross val scores\n",
        "print(\"result for linear regression: \")\n",
        "get_cv_scores(lr)\n",
        "\n",
        "from sklearn.linear_model import Ridge\n",
        "# Train model with default alpha=1\n",
        "ridge = Ridge(alpha=1).fit(X_train, y_train)\n",
        "# get cross val scores\n",
        "print(\"result for ridge regression: \")\n",
        "get_cv_scores(ridge)\n",
        "\n",
        "# find optimal alpha with grid search\n",
        "alpha = [0.001, 0.01, 0.1, 1, 10, 100, 1000]\n",
        "param_grid = dict(alpha=alpha)\n",
        "grid = GridSearchCV(estimator=ridge, param_grid=param_grid, scoring='r2', verbose=1, n_jobs=-1)\n",
        "grid_result = grid.fit(X_train, y_train)\n",
        "print(\"result for ridge regression after tuning: \")\n",
        "print('Best Score: ', grid_result.best_score_)\n",
        "print('Best Params: ', grid_result.best_params_)\n",
        "print('\\n')\n",
        "\n",
        "from sklearn.linear_model import Lasso\n",
        "# Train model with default alpha=1\n",
        "lasso = Lasso(alpha=1).fit(X_train, y_train)\n",
        "# get cross val scores\n",
        "print(\"result for Lasso regression: \")\n",
        "get_cv_scores(lasso)\n",
        "\n",
        "alpha = [0.001, 0.01, 0.1, 1, 10, 100, 1000]\n",
        "param_grid = dict(alpha=alpha)\n",
        "grid = GridSearchCV(estimator=lasso, param_grid=param_grid, scoring='r2', verbose=1, n_jobs=-1)\n",
        "grid_result = grid.fit(X_train, y_train)\n",
        "print(\"result for Lasso regression after tuning: \")\n",
        "print('Best Score: ', grid_result.best_score_)\n",
        "print('Best Params: ', grid_result.best_params_)\n",
        "\n",
        "# rmse of linear regression\n",
        "rmse_lr = np.sqrt(mean_squared_error(y_test, y_pred))\n",
        "print(\"RMSE of linear regression: %f\" % (rmse_lr))\n",
        "# mape of KNN\n",
        "mape_lr = skm.mean_absolute_error(y_test, y_pred)\n",
        "print(\"MAPE of linear regression: %f\" % (mape_lr))\n",
        "# mae of knn\n",
        "mae_lr = skm.mean_absolute_percentage_error(y_test, y_pred)*100\n",
        "print(\"MAE of linear regression: %f\" % (mae_lr))\n"
      ],
      "metadata": {
        "id": "7wndTf_iTZ90"
      },
      "execution_count": null,
      "outputs": []
    },
    {
      "cell_type": "markdown",
      "source": [
        "# KNN"
      ],
      "metadata": {
        "id": "c89Nd8qYRk4T"
      }
    },
    {
      "cell_type": "code",
      "source": [
        "# fitting model\n",
        "knn_model = KNeighborsRegressor().fit(X_train, y_train)\n",
        "y_pred = knn_model.predict(X_test)\n",
        "np.sqrt(mean_squared_error(y_test, y_pred))"
      ],
      "metadata": {
        "id": "byndnz1H6gfz"
      },
      "execution_count": null,
      "outputs": []
    },
    {
      "cell_type": "code",
      "source": [
        "# rmse of KNN\n",
        "rmse_knn = np.sqrt(mean_squared_error(y_test, y_pred))\n",
        "print(\"RMSE of KNN: %f\" % (rmse_knn))"
      ],
      "metadata": {
        "id": "T3VFbUAa8Rwa"
      },
      "execution_count": null,
      "outputs": []
    },
    {
      "cell_type": "code",
      "source": [
        "# mape of KNN\n",
        "mape_knn = skm.mean_absolute_error(y_test, y_pred)\n",
        "print(\"MAPE of KNN: %f\" % (mape_knn))"
      ],
      "metadata": {
        "id": "46QbtmVO9VzU"
      },
      "execution_count": null,
      "outputs": []
    },
    {
      "cell_type": "code",
      "source": [
        "# mae of knn\n",
        "mae_knn = skm.mean_absolute_percentage_error(y_test, y_pred)*100\n",
        "print(\"MAE of KNN: %f\" % (mae_knn))"
      ],
      "metadata": {
        "id": "JK85UE6e-e9M"
      },
      "execution_count": null,
      "outputs": []
    },
    {
      "cell_type": "code",
      "source": [
        "# train set model score\n",
        "knn_model.score(X_train, y_train)"
      ],
      "metadata": {
        "id": "fjZwn0dI7EKw"
      },
      "execution_count": null,
      "outputs": []
    },
    {
      "cell_type": "code",
      "source": [
        "# test set model score\n",
        "knn_model.score(X_test, y_test)"
      ],
      "metadata": {
        "id": "MjuhyhLk7Mbu"
      },
      "execution_count": null,
      "outputs": []
    },
    {
      "cell_type": "markdown",
      "source": [
        "### Cross Validation"
      ],
      "metadata": {
        "id": "jIFfM621cgAx"
      }
    },
    {
      "cell_type": "code",
      "source": [
        "# initialize a machine learning model\n",
        "model = knn_model()"
      ],
      "metadata": {
        "id": "Mr3RKU8scgAx"
      },
      "execution_count": null,
      "outputs": []
    },
    {
      "cell_type": "code",
      "source": [
        "# implement cross_val_score with the model, X, y, scoring='neg_mean_squared_error', and the number of folds, cv=10, as input\n",
        "scores = cross_val_score(model, X, y, scoring='neg_mean_squared_error', cv=10)"
      ],
      "metadata": {
        "id": "XtZFCwA3cgAy"
      },
      "execution_count": null,
      "outputs": []
    },
    {
      "cell_type": "code",
      "source": [
        "# find the RMSE by taking the square root of the negative scores\n",
        "rmse = np.sqrt(-scores)"
      ],
      "metadata": {
        "id": "i0psaRKicgAy"
      },
      "execution_count": null,
      "outputs": []
    },
    {
      "cell_type": "code",
      "source": [
        "# display the results\n",
        "print('Reg rmse:', np.round(rmse, 2))\n",
        "\n",
        "print('RMSE mean: %0.2f' % (rmse.mean()))"
      ],
      "metadata": {
        "id": "WFl-a4d_cgAy"
      },
      "execution_count": null,
      "outputs": []
    },
    {
      "cell_type": "code",
      "source": [
        "# finding best k\n",
        "knn_params = {'n_neighbors': np.arange(1,50,1)}\n",
        "knn = KNeighborsRegressor()\n",
        "knn_cv_model = GridSearchCV(knn, knn_params, cv = 10)\n",
        "knn_cv_model.fit(X_train, y_train)\n",
        "knn_cv_model.best_params_[\"n_neighbors\"]"
      ],
      "metadata": {
        "id": "WfSSxawW7RUL"
      },
      "execution_count": null,
      "outputs": []
    },
    {
      "cell_type": "code",
      "source": [
        "# fitting best k\n",
        "knn_tuned = KNeighborsRegressor(n_neighbors = knn_cv_model.best_params_[\"n_neighbors\"])\n",
        "knn_tuned.fit(X_train, y_train)"
      ],
      "metadata": {
        "id": "i3gfHsYv72rW"
      },
      "execution_count": null,
      "outputs": []
    },
    {
      "cell_type": "code",
      "source": [
        "# rmse of tuned knn\n",
        "rmse_tuned_knn = np.sqrt(mean_squared_error(y_test, knn_tuned.predict(X_test)))\n",
        "print(\"RMSE of tuned KNN: %f\" % (rmse_tuned_knn))"
      ],
      "metadata": {
        "id": "Iathha2r8AZH"
      },
      "execution_count": null,
      "outputs": []
    },
    {
      "cell_type": "code",
      "source": [
        "# tuned knn test set model score\n",
        "knn_tuned.score(X_test, y_test)"
      ],
      "metadata": {
        "id": "RRxDRQLA_dhz"
      },
      "execution_count": null,
      "outputs": []
    },
    {
      "cell_type": "code",
      "source": [
        "# mape of tuned knn\n",
        "mape_tuned_knn = skm.mean_absolute_percentage_error(y_test, knn_tuned.predict(X_test))*100\n",
        "print(\"MAPE of tuned KNN: %f\" % (mape_tuned_knn))"
      ],
      "metadata": {
        "id": "PbEi0pqe_nHs"
      },
      "execution_count": null,
      "outputs": []
    },
    {
      "cell_type": "code",
      "source": [
        "# mae of tuned knn\n",
        "mae_tuned_knn = skm.mean_absolute_error(y_test, knn_tuned.predict(X_test))\n",
        "print(\"MAE of tuned KNN: %f\" % (mae_tuned_knn))"
      ],
      "metadata": {
        "id": "RWiKjwP5Awgg"
      },
      "execution_count": null,
      "outputs": []
    },
    {
      "cell_type": "code",
      "source": [
        "# bagging of tuned knn\n",
        "bagged_knn = KNeighborsRegressor(\n",
        "    n_neighbors=knn_cv_model.best_params_[\"n_neighbors\"]\n",
        ")\n",
        "bagging_model = BaggingRegressor(bagged_knn, n_estimators=100)\n",
        "bagging_model.fit(X_test, y_test)\n",
        "bagging_test_preds = bagging_model.predict(X_test)\n",
        "np.sqrt(mean_squared_error(y_test, bagging_test_preds))"
      ],
      "metadata": {
        "id": "J1D2DIXCBf2p"
      },
      "execution_count": null,
      "outputs": []
    },
    {
      "cell_type": "code",
      "source": [
        "# rmse of bagging of tuned knn\n",
        "rmse_bagging_tuned_knn = np.sqrt(mean_squared_error(y_test, bagging_test_preds))\n",
        "print(\"RMSE of bagging of tuned KNN: %f\" % (rmse_bagging_tuned_knn))"
      ],
      "metadata": {
        "id": "L-53UECHCx5l"
      },
      "execution_count": null,
      "outputs": []
    },
    {
      "cell_type": "code",
      "source": [
        "# mape of bagging of tuned knn\n",
        "mape_bagging_tuned_knn = skm.mean_absolute_percentage_error(y_test, bagging_test_preds)*100\n",
        "print(\"MAPE of bagging of tuned KNN: %f\" % (mape_bagging_tuned_knn))"
      ],
      "metadata": {
        "id": "f-my9eHRDGTX"
      },
      "execution_count": null,
      "outputs": []
    },
    {
      "cell_type": "code",
      "source": [
        "# mae of bagging of tuned knn\n",
        "mae_bagging_tuned_knn = skm.mean_absolute_error(y_test, bagging_test_preds)\n",
        "print(\"MAE of bagging of tuned KNN: %f\" % (mae_bagging_tuned_knn))"
      ],
      "metadata": {
        "id": "9j77u-CqDVkF"
      },
      "execution_count": null,
      "outputs": []
    },
    {
      "cell_type": "code",
      "source": [
        "#bagging test set model score\n",
        "bagging_model.score(X_test, y_test)"
      ],
      "metadata": {
        "id": "Tk0a3q9RDmlB"
      },
      "execution_count": null,
      "outputs": []
    },
    {
      "cell_type": "code",
      "source": [
        "# comparison of 3 knn\n",
        "knn = [rmse_knn, mape_knn, mae_knn]\n",
        "tuned_knn = [rmse_tuned_knn, mape_tuned_knn, mae_tuned_knn]\n",
        "bagging_tuned_knn = [rmse_bagging_tuned_knn, mape_bagging_tuned_knn, mae_bagging_tuned_knn]\n",
        "\n",
        "frames = [knn, tuned_knn, bagging_tuned_knn]\n",
        "table = pd.DataFrame(data=frames)\n",
        "table = table.T\n",
        "table = table.rename(columns={0:'KNN', 1:'tuned KNN', 2:'bagging tuned KNN'})\n",
        "table = table.rename(mapper={0:'RMSE', 1:'MAPE', 2:'MAE'})\n",
        "print(table)"
      ],
      "metadata": {
        "id": "aU1sjar5D-Qa"
      },
      "execution_count": null,
      "outputs": []
    },
    {
      "cell_type": "markdown",
      "source": [
        "# XGBoost"
      ],
      "metadata": {
        "id": "jd1u-BZyRqKu"
      }
    },
    {
      "cell_type": "code",
      "source": [
        "# convert data to optimized DMatrix constructor\n",
        "data_dmatrix = xgb.DMatrix(data=X, label=y)"
      ],
      "metadata": {
        "id": "h4StBeUaRtEI"
      },
      "execution_count": null,
      "outputs": []
    },
    {
      "cell_type": "code",
      "source": [
        "# initialize a machine learning model\n",
        "xg_reg = xgb.XGBRegressor(random_state=4011)"
      ],
      "metadata": {
        "id": "2HlZGYUPRyd4"
      },
      "execution_count": null,
      "outputs": []
    },
    {
      "cell_type": "code",
      "source": [
        "# fit the model on the training set\n",
        "xg_reg.fit(X_train,y_train)"
      ],
      "metadata": {
        "id": "_Manq-XnR1oJ"
      },
      "execution_count": null,
      "outputs": []
    },
    {
      "cell_type": "code",
      "source": [
        "# make predictions for the test set\n",
        "preds = xg_reg.predict(X_test)"
      ],
      "metadata": {
        "id": "z3V-G1RyR3A4"
      },
      "execution_count": null,
      "outputs": []
    },
    {
      "cell_type": "code",
      "source": [
        "# compare predictions with test set\n",
        "rmse = skm.mean_squared_error(y_test, preds, squared=False)\n",
        "print(\"RMSE: %f\" % (rmse))"
      ],
      "metadata": {
        "id": "NpjXMH1pR4e1"
      },
      "execution_count": null,
      "outputs": []
    },
    {
      "cell_type": "markdown",
      "source": [
        "### Cross Validation"
      ],
      "metadata": {
        "id": "gC5m12coR6ux"
      }
    },
    {
      "cell_type": "code",
      "source": [
        "# initialize a machine learning model\n",
        "model = xgb.XGBRegressor()"
      ],
      "metadata": {
        "id": "PnsaA4ubR6YB"
      },
      "execution_count": null,
      "outputs": []
    },
    {
      "cell_type": "code",
      "source": [
        "# implement cross_val_score with the model, X, y, scoring='neg_mean_squared_error', and the number of folds, cv=10, as input\n",
        "scores = cross_val_score(model, X, y, scoring='neg_mean_squared_error', cv=10)"
      ],
      "metadata": {
        "id": "yH1GbV5dSCjR"
      },
      "execution_count": null,
      "outputs": []
    },
    {
      "cell_type": "code",
      "source": [
        "# find the RMSE by taking the square root of the negative scores\n",
        "rmse = np.sqrt(-scores)"
      ],
      "metadata": {
        "id": "v0IVB-VXSD2F"
      },
      "execution_count": null,
      "outputs": []
    },
    {
      "cell_type": "code",
      "source": [
        "# display the results\n",
        "print('Reg rmse:', np.round(rmse, 2))\n",
        "\n",
        "print('RMSE mean: %0.2f' % (rmse.mean()))"
      ],
      "metadata": {
        "id": "MBY5ybvYSFYT"
      },
      "execution_count": null,
      "outputs": []
    },
    {
      "cell_type": "markdown",
      "source": [
        "### Hyperparameter Tuning"
      ],
      "metadata": {
        "id": "4duoYoRtSIlX"
      }
    },
    {
      "cell_type": "code",
      "source": [
        "# possible parameters we want to optimize\n",
        "params = {\n",
        "    'max_depth':[3,4,5,6,7,8,9,10],\n",
        "    'learning_rate':[0.01,0.05,0.1],\n",
        "    'n_estimators':[100,300,500,1000],\n",
        "    'subsample': np.arange(0.5, 1.0, 0.1),\n",
        "    'colsample_bytree': np.arange(0.4, 1.0, 0.1),\n",
        "    'colsample_bylevel': np.arange(0.4, 1.0, 0.1),\n",
        "}"
      ],
      "metadata": {
        "id": "nJwYPFXJSHaU"
      },
      "execution_count": null,
      "outputs": []
    },
    {
      "cell_type": "code",
      "source": [
        "# initialize a gradient boosting model\n",
        "gb = xgb.XGBRegressor(random_state=4011)\n",
        "\n",
        "# initialize RandomizedSearchCV with various inputs\n",
        "gb_cv = RandomizedSearchCV(estimator=gb,\n",
        "                           param_distributions=params,\n",
        "                           scoring='neg_mean_squared_error',\n",
        "                           n_iter=100,\n",
        "                           cv=5,\n",
        "                           n_jobs=-1,\n",
        "                           random_state=4011)"
      ],
      "metadata": {
        "id": "YmpuXGQXSNHM"
      },
      "execution_count": null,
      "outputs": []
    },
    {
      "cell_type": "code",
      "source": [
        "# fit the model on the training set and obtain the best parameters and scores\n",
        "gb_cv.fit(X_train,y_train)\n",
        "\n",
        "# print(\"Best Parameters:\",gb_cv.best_params_)\n",
        "# print(\"Train Score:\",gb_cv.best_score_)\n",
        "# print(\"Test Score:\",gb_cv.score(X_test,y_test))\n",
        "\n",
        "#rand_reg.fit(X_train, y_train)\n",
        "\n",
        "best_model = gb_cv.best_estimator_\n",
        "\n",
        "best_params = gb_cv.best_params_\n",
        "\n",
        "print(\"Best params:\", best_params)\n",
        "\n",
        "best_score = np.sqrt(-gb_cv.best_score_)\n",
        "\n",
        "print(\"Training score: {:.3f}\".format(best_score))\n",
        "\n",
        "y_pred = best_model.predict(X_test)\n",
        "\n",
        "rmse_test = skm.mean_squared_error(y_test, y_pred)**0.5\n",
        "\n",
        "print('Test set score: {:.3f}'.format(rmse_test))"
      ],
      "metadata": {
        "id": "_HaBeGPnSO09"
      },
      "execution_count": null,
      "outputs": []
    },
    {
      "cell_type": "code",
      "source": [
        "# optimised model with tuned hyperparameters\n",
        "xg_reg = xgb.XGBRegressor(subsample=0.9, n_estimators=1000, max_depth=8, learning_rate=0.01,\n",
        "                          colsample_bytree=0.9, colsample_bylevel=0.6, random_state=4011)"
      ],
      "metadata": {
        "id": "Jevpe-nnSQ_0"
      },
      "execution_count": null,
      "outputs": []
    },
    {
      "cell_type": "code",
      "source": [
        "xg_reg.fit(X_train,y_train)\n",
        "\n",
        "preds = xg_reg.predict(X_test)"
      ],
      "metadata": {
        "id": "L968iXtOSTKb"
      },
      "execution_count": null,
      "outputs": []
    },
    {
      "cell_type": "code",
      "source": [
        "xgb_rmse = skm.mean_squared_error(y_test, preds, squared=False)\n",
        "print(\"RMSE: %f\" % (xgb_rmse))"
      ],
      "metadata": {
        "id": "C6d79ZIXSUZP"
      },
      "execution_count": null,
      "outputs": []
    },
    {
      "cell_type": "code",
      "source": [
        "xgb_mape = skm.mean_absolute_percentage_error(y_test, preds) * 100\n",
        "print(\"MAPE: %f\" % (xgb_mape))"
      ],
      "metadata": {
        "id": "D5AqMLw4SVsa"
      },
      "execution_count": null,
      "outputs": []
    },
    {
      "cell_type": "code",
      "source": [
        "xgb_mae = skm.mean_absolute_error(y_test, preds)\n",
        "print(\"MAE: %f\" % (xgb_mae))"
      ],
      "metadata": {
        "id": "YT8pHO1sSXdo"
      },
      "execution_count": null,
      "outputs": []
    },
    {
      "cell_type": "markdown",
      "source": [
        "### Boosting Trees and Feature Importance Visualization"
      ],
      "metadata": {
        "id": "yJzynj8ISbOW"
      }
    },
    {
      "cell_type": "code",
      "source": [
        "params = {'subsample': 0.9, 'max_depth': 8, 'learning_rate': 0.01, 'colsample_bytree': 0.9, 'colsample_bylevel': 0.6}\n",
        "xg_reg = xgb.train(params=params, dtrain=data_dmatrix, num_boost_round=1000)"
      ],
      "metadata": {
        "id": "BWllhBc0SdIi"
      },
      "execution_count": null,
      "outputs": []
    },
    {
      "cell_type": "code",
      "source": [
        "xgb.plot_tree(xg_reg, num_trees=999)\n",
        "fig = plt.gcf()\n",
        "fig.set_size_inches(50, 100)\n",
        "fig.savefig('tree.png', dpi=300)"
      ],
      "metadata": {
        "id": "Ce30i_8LSei8"
      },
      "execution_count": null,
      "outputs": []
    },
    {
      "cell_type": "code",
      "source": [
        "xgb.plot_importance(xg_reg)\n",
        "fig = plt.gcf()\n",
        "fig.set_size_inches(50, 20)\n",
        "fig.savefig('feature_importance.png', dpi=300)"
      ],
      "metadata": {
        "id": "rK8aXVKiSf0X"
      },
      "execution_count": null,
      "outputs": []
    },
    {
      "cell_type": "markdown",
      "source": [
        "# Random Forest"
      ],
      "metadata": {
        "id": "OpVVpejfRd7K"
      }
    },
    {
      "cell_type": "code",
      "source": [
        "# Random Forest\n",
        "rf_model = RandomForestRegressor(random_state = 42)\n",
        "rf_model.fit(X_train, y_train)\n",
        "y_pred = rf_model.predict(X_test)\n",
        "rf_rmse=np.sqrt(mean_squared_error(y_test, y_pred))\n",
        "# RMSE of tuned random forest\n",
        "print(\"RMSE before tuning:\", rf_rmse)"
      ],
      "metadata": {
        "id": "-kYkbDqt2PoD"
      },
      "execution_count": null,
      "outputs": []
    },
    {
      "cell_type": "code",
      "source": [
        "# MAPE of tuned random forest\n",
        "mape_tuned_rf = skm.mean_absolute_percentage_error(y_test, rf_model.predict(X_test))*100\n",
        "print(\"MAPE before tuning: %f\" % (mape_tuned_rf))"
      ],
      "metadata": {
        "id": "Njjj9XewrFDu"
      },
      "execution_count": null,
      "outputs": []
    },
    {
      "cell_type": "code",
      "source": [
        "# MAE of tuned random forest\n",
        "mae = skm.mean_absolute_error(y_test, y_pred)\n",
        "print(\"MAE before tuning: %f\" % (mae))"
      ],
      "metadata": {
        "id": "FRzqf8bJreU1"
      },
      "execution_count": null,
      "outputs": []
    },
    {
      "cell_type": "code",
      "source": [
        "# Finding the best Random Forest parameters\n",
        "rf_params = {'max_depth': list(range(1,20)), 'max_features': [3,5,7,9], 'n_estimators' : [50,75,100,125]}\n",
        "rf_model = RandomForestRegressor(random_state = 42)\n",
        "rf_cv_model = GridSearchCV(rf_model, rf_params, cv = 10, n_jobs = -1, verbose = 2)\n",
        "rf_cv_model.fit(X_train, y_train)\n",
        "print(\"rf best params:\", rf_cv_model.best_params_)"
      ],
      "metadata": {
        "id": "bdqMBZWP2Xs7"
      },
      "execution_count": null,
      "outputs": []
    },
    {
      "cell_type": "code",
      "source": [
        "# Apply the best Random Forest parameters\n",
        "# {'max_depth': 12, 'max_features': 5, 'n_estimators': 75}\n",
        "rf_tuned = RandomForestRegressor(max_depth  = 12, max_features = 5, n_estimators =75, random_state = 42)\n",
        "rf_tuned.fit(X_train, y_train)\n",
        "y_pred = rf_tuned.predict(X_test)\n",
        "print(\"RMSE after tuned:\", np.sqrt(mean_squared_error(y_test, y_pred)))"
      ],
      "metadata": {
        "id": "vJZv40xo2ZYK"
      },
      "execution_count": null,
      "outputs": []
    },
    {
      "cell_type": "code",
      "source": [
        "# Plot variables importance\n",
        "Importance = pd.DataFrame({\"Importance\": rf_tuned.feature_importances_*100}, index = X_train.columns)\n",
        "Importance.sort_values(by = \"Importance\", axis = 0, ascending = True).plot(kind =\"barh\", color = \"r\")\n",
        "plt.xlabel(\"Variable Significance Levels\")\n",
        "plt.show()"
      ],
      "metadata": {
        "id": "1rrGfeCf2bAl"
      },
      "execution_count": null,
      "outputs": []
    },
    {
      "cell_type": "code",
      "source": [
        "# MAPE of tuned random forest\n",
        "mape_tuned_rf = skm.mean_absolute_percentage_error(y_test, rf_tuned.predict(X_test))*100\n",
        "print(\"MAPE after tuned: %f\" % (mape_tuned_rf))"
      ],
      "metadata": {
        "id": "EImhVkR-qyA3"
      },
      "execution_count": null,
      "outputs": []
    },
    {
      "cell_type": "code",
      "source": [
        "# MAE of tuned random forest\n",
        "mae = skm.mean_absolute_error(y_test, y_pred)\n",
        "print(\"MAE after tuned: %f\" % (mae))"
      ],
      "metadata": {
        "id": "pyqIGqlSrAv1"
      },
      "execution_count": null,
      "outputs": []
    },
    {
      "cell_type": "markdown",
      "source": [
        "# Model Comparison"
      ],
      "metadata": {
        "id": "kFaTye7dSjjt"
      }
    },
    {
      "cell_type": "code",
      "source": [
        "myTable = PrettyTable([\"Algorithm\", \"RMSE\", \"MAE\", \"MAPE\"])\n",
        "myTable.add_row([\"LR\", lr_rmse, lr_mae, lr_mape])\n",
        "myTable.add_row([\"KNN\", rmse_bagging_tuned_knn, mape_bagging_tuned_knn, mae_bagging_tuned_knn])\n",
        "myTable.add_row([\"XGBoost\", xgb_rmse, xgb_mae, xgb_mape])\n",
        "myTable.add_row([\"Random Forest\", rf_rmse, rf_mae, rf_tuned_mape])\n",
        "\n",
        "print(myTable)"
      ],
      "metadata": {
        "id": "KvViIiMm5T2P"
      },
      "execution_count": null,
      "outputs": []
    }
  ]
}